{
 "cells": [
  {
   "cell_type": "code",
   "execution_count": 1,
   "id": "dcd10171",
   "metadata": {},
   "outputs": [],
   "source": [
    "%run ri.ipynb"
   ]
  },
  {
   "cell_type": "code",
   "execution_count": 2,
   "id": "6e8e290c",
   "metadata": {},
   "outputs": [],
   "source": [
    "def parse_nodes(input_string, delimiter = \" \"):\n",
    "    numbers = input_string.split(delimiter)\n",
    "\n",
    "    i = int(numbers[0])\n",
    "    j = int(numbers[1])\n",
    "\n",
    "    return i, j\n",
    "\n",
    "def read_graph_from_mtx(filepath):\n",
    "    \n",
    "    with open(filepath, 'r') as f:\n",
    "        lines = f.readlines()\n",
    "        n = int(lines[1].split(' ')[0])\n",
    "        lines = lines[2:]\n",
    "    \n",
    "    graph = np.zeros((n, n))\n",
    "    \n",
    "    for line in lines:\n",
    "        i, j = parse_nodes(line)\n",
    "        graph[i-1][j-1] = 1\n",
    "        \n",
    "    return graph\n",
    "\n",
    "def read_graph_from_edges(filepath):\n",
    "    \n",
    "    with open(filepath, 'r') as f:\n",
    "        lines = f.readlines()\n",
    "    \n",
    "    nodes_list = []\n",
    "    for line in lines:\n",
    "        u, v = parse_nodes(line)\n",
    "        nodes_list.append(u)\n",
    "        nodes_list.append(v)\n",
    "    \n",
    "    n = max(nodes_list) + 1\n",
    "    \n",
    "    graph = np.zeros((n, n))\n",
    "    \n",
    "    for line in lines:\n",
    "        i, j = parse_nodes(line)\n",
    "        graph[i][j] = 1\n",
    "        \n",
    "    return graph\n"
   ]
  },
  {
   "cell_type": "code",
   "execution_count": 3,
   "id": "e65df475",
   "metadata": {},
   "outputs": [],
   "source": [
    "def test_all_algorithms(graph, vns_time, test_bf = False):\n",
    "    if test_bf:\n",
    "        value1, _ = med_brute_force(graph)\n",
    "    else:\n",
    "        value1 = \"Too complex!\"\n",
    "    value2, _ = med_greedy(graph)\n",
    "    _, value3 = vns(graph, vns_time, 3, 0.5, 100, 1.0, 1)\n",
    "    _, value4 = vns(graph, vns_time, 3, 0.5, 100, 1.0, 2)\n",
    "    _, value5 = vns(graph, vns_time, 3, 0.5, 100, 1.0, 3)\n",
    "    \n",
    "    results = [value1, value2, value3, value4, value5]\n",
    "\n",
    "    algorithm_names = [\"med_brute_force\", \"med_greedy\", \"vns1\", \"vns2\", \"vns3\"]\n",
    "\n",
    "    for name, result in zip(algorithm_names, results):\n",
    "        print(f\"{name}: {result}\")"
   ]
  },
  {
   "cell_type": "code",
   "execution_count": 4,
   "id": "1dbb552c",
   "metadata": {},
   "outputs": [],
   "source": [
    "graph1 = np.array([[0, 1, 1], [0, 0, 1], [0, 0, 0]])"
   ]
  },
  {
   "cell_type": "code",
   "execution_count": 5,
   "id": "297c2479",
   "metadata": {},
   "outputs": [
    {
     "name": "stdout",
     "output_type": "stream",
     "text": [
      "med_brute_force: 2\n",
      "med_greedy: 2\n",
      "vns1: 2.0\n",
      "vns2: 2.0\n",
      "vns3: 2.0\n"
     ]
    }
   ],
   "source": [
    "test_all_algorithms(graph1, 0.05, True)"
   ]
  },
  {
   "cell_type": "code",
   "execution_count": 6,
   "id": "d434192e",
   "metadata": {},
   "outputs": [],
   "source": [
    "graph2 = np.array([[0, 1, 1, 1, 1, 1], [0, 0, 0, 0, 0, 0], [0, 1, 0, 0, 0, 0], [0, 0, 1, 0, 0, 0], [0, 0, 0, 1, 0, 0], [0, 1, 0, 0, 1, 0]])"
   ]
  },
  {
   "cell_type": "code",
   "execution_count": 7,
   "id": "502b6b50",
   "metadata": {},
   "outputs": [
    {
     "name": "stdout",
     "output_type": "stream",
     "text": [
      "med_brute_force: 5\n",
      "med_greedy: 5\n",
      "vns1: 5.0\n",
      "vns2: 5.0\n",
      "vns3: 5.0\n"
     ]
    }
   ],
   "source": [
    "test_all_algorithms(graph2, 0.05, True)"
   ]
  },
  {
   "cell_type": "code",
   "execution_count": 8,
   "id": "1e42fb0c",
   "metadata": {},
   "outputs": [],
   "source": [
    "graph3 = np.array([\n",
    "    [0, 0, 1, 0, 0, 1, 1],\n",
    "    [1, 1, 0, 1, 1, 0, 1],\n",
    "    [1, 1, 1, 1, 0, 1, 1],\n",
    "    [1, 0, 1, 1, 0, 1, 0],\n",
    "    [0, 0, 1, 0, 1, 0, 1],\n",
    "    [1, 1, 0, 1, 0, 1, 0],\n",
    "    [0, 0, 0, 1, 0, 0, 1]\n",
    "])"
   ]
  },
  {
   "cell_type": "code",
   "execution_count": 9,
   "id": "23fe1cc9",
   "metadata": {},
   "outputs": [
    {
     "name": "stdout",
     "output_type": "stream",
     "text": [
      "med_brute_force: Too complex!\n",
      "med_greedy: 9\n",
      "vns1: 7.0\n",
      "vns2: 7.0\n",
      "vns3: 7.0\n"
     ]
    }
   ],
   "source": [
    "test_all_algorithms(graph3, 0.1)"
   ]
  },
  {
   "cell_type": "code",
   "execution_count": 38,
   "id": "57fc543b",
   "metadata": {},
   "outputs": [],
   "source": [
    "graph5 = np.array([\n",
    "    [0, 1, 1, 1, 0, 0, 0, 0, 0, 0, 0, 0, 0, 0, 0],\n",
    "    [0, 0, 0, 1, 1, 0, 0, 0, 0, 1, 1, 0, 0, 0, 0],\n",
    "    [0, 0, 0, 0, 0, 1, 0, 0, 0, 0, 1, 1, 0, 0, 0],\n",
    "    [0, 1, 1, 0, 0, 0, 1, 0, 0, 0, 1, 1, 1, 0, 0],\n",
    "    [0, 0, 1, 0, 0, 0, 0, 1, 1, 0, 0, 0, 0, 0, 0],\n",
    "    [0, 0, 1, 1, 1, 1, 0, 0, 0, 1, 0, 0, 1, 0, 0],\n",
    "    [0, 0, 0, 0, 0, 0, 0, 0, 0, 0, 1, 0, 0, 0, 0],\n",
    "    [0, 0, 0, 0, 0, 0, 0, 0, 0, 0, 0, 1, 1, 0, 0],\n",
    "    [0, 0, 0, 1, 1, 1, 0, 0, 0, 0, 0, 0, 0, 1, 0],\n",
    "    [0, 0, 1, 1, 0, 0, 1, 0, 0, 1, 0, 0, 0, 1, 0],\n",
    "    [0, 0, 0, 1, 0, 0, 0, 0, 0, 0, 0, 0, 0, 0, 1],\n",
    "    [0, 0, 0, 0, 1, 0, 0, 0, 0, 1, 1, 0, 0, 0, 1],\n",
    "    [0, 0, 1, 1, 0, 0, 1, 1, 0, 0, 0, 1, 0, 0, 0],\n",
    "    [0, 0, 0, 0, 0, 0, 0, 0, 0, 0, 0, 0, 0, 0, 0],\n",
    "    [1, 0, 1, 0, 0, 1, 0, 0, 0, 0, 0, 0, 1, 1, 0]\n",
    "])\n"
   ]
  },
  {
   "cell_type": "code",
   "execution_count": 39,
   "id": "4f37f50a",
   "metadata": {},
   "outputs": [
    {
     "name": "stdout",
     "output_type": "stream",
     "text": [
      "med_brute_force: Too complex!\n",
      "med_greedy: 18\n",
      "vns1: 15.0\n",
      "vns2: 16.0\n",
      "vns3: 15.0\n"
     ]
    }
   ],
   "source": [
    "test_all_algorithms(graph5, 3)"
   ]
  },
  {
   "cell_type": "code",
   "execution_count": null,
   "id": "8d9eab7b",
   "metadata": {},
   "outputs": [],
   "source": []
  },
  {
   "cell_type": "code",
   "execution_count": 32,
   "id": "130c2580",
   "metadata": {},
   "outputs": [],
   "source": [
    "graph4 = np.array([\n",
    "    [0, 1, 1, 0, 0, 0, 0, 0, 0, 0, 0, 0, 0, 0, 0, 0, 0, 0, 0, 0, 0, 0, 1, 0, 0, 0, 0, 0, 0, 0],\n",
    "    [1, 0, 0, 0, 0, 1, 1, 0, 0, 0, 0, 0, 0, 0, 0, 0, 0, 0, 0, 0, 0, 0, 0, 0, 0, 0, 0, 0, 0, 0],\n",
    "    [1, 0, 0, 1, 0, 0, 0, 0, 1, 0, 0, 0, 0, 0, 0, 0, 0, 0, 0, 0, 0, 0, 0, 0, 0, 0, 0, 0, 0, 0],\n",
    "    [0, 0, 1, 0, 1, 0, 0, 0, 0, 0, 0, 0, 0, 0, 0, 0, 0, 1, 0, 0, 0, 0, 0, 0, 1, 0, 0, 0, 0, 0],\n",
    "    [0, 0, 0, 1, 0, 0, 0, 0, 0, 0, 0, 0, 0, 0, 1, 0, 0, 0, 0, 0, 0, 1, 0, 0, 0, 0, 0, 0, 0, 0],\n",
    "    [0, 1, 0, 0, 0, 0, 0, 1, 0, 0, 0, 0, 0, 0, 0, 0, 0, 0, 0, 0, 0, 0, 0, 0, 0, 0, 0, 0, 0, 0],\n",
    "    [0, 1, 0, 0, 0, 0, 0, 0, 1, 0, 0, 0, 1, 0, 0, 0, 0, 0, 0, 0, 0, 0, 0, 0, 0, 0, 0, 0, 0, 0],\n",
    "    [0, 0, 0, 0, 0, 1, 0, 0, 0, 1, 0, 0, 0, 0, 0, 0, 0, 0, 1, 0, 0, 0, 0, 0, 0, 0, 0, 0, 0, 0],\n",
    "    [0, 0, 1, 0, 0, 0, 1, 0, 0, 0, 1, 0, 0, 0, 0, 0, 0, 0, 0, 1, 0, 0, 0, 0, 0, 1, 0, 0, 0, 0],\n",
    "    [0, 0, 0, 0, 0, 0, 0, 1, 0, 0, 0, 1, 0, 0, 0, 0, 0, 0, 0, 0, 1, 0, 0, 0, 0, 0, 0, 0, 0, 0],\n",
    "    [0, 0, 0, 0, 0, 0, 0, 0, 1, 0, 0, 0, 1, 0, 0, 0, 0, 0, 0, 0, 0, 1, 0, 0, 0, 0, 0, 0, 0, 0],\n",
    "    [0, 0, 0, 0, 0, 0, 0, 0, 0, 1, 0, 0, 0, 1, 0, 0, 0, 0, 0, 0, 0, 0, 0, 0, 0, 0, 0, 0, 0, 0],\n",
    "    [0, 0, 0, 0, 0, 0, 0, 0, 0, 0, 1, 0, 0, 0, 1, 0, 0, 0, 0, 0, 0, 0, 0, 0, 0, 0, 0, 1, 1, 0],\n",
    "    [0, 0, 0, 0, 0, 0, 0, 0, 0, 0, 0, 1, 0, 0, 0, 1, 0, 0, 0, 0, 0, 0, 0, 0, 0, 0, 0, 0, 0, 0],\n",
    "    [0, 1, 0, 0, 0, 0, 0, 0, 0, 0, 0, 0, 1, 0, 0, 0, 1, 0, 0, 0, 0, 0, 0, 0, 0, 0, 0, 0, 0, 0],\n",
    "    [0, 0, 1, 0, 0, 0, 0, 0, 0, 0, 0, 0, 0, 1, 0, 0, 0, 1, 0, 0, 0, 0, 0, 0, 0, 0, 0, 0, 0, 0],\n",
    "    [0, 0, 0, 1, 0, 0, 0, 0, 0, 0, 0, 0, 0, 0, 1, 0, 0, 0, 1, 0, 0, 0, 0, 0, 0, 0, 0, 0, 0, 0],\n",
    "    [0, 0, 0, 0, 0, 0, 0, 0, 0, 0, 0, 0, 0, 0, 0, 1, 0, 0, 0, 1, 0, 0, 0, 0, 0, 0, 1, 0, 0, 0],\n",
    "    [0, 0, 0, 0, 0, 0, 0, 1, 0, 0, 0, 0, 0, 0, 0, 0, 1, 0, 0, 0, 1, 0, 0, 0, 0, 0, 0, 0, 0, 0],\n",
    "    [0, 0, 0, 0, 0, 0, 0, 0, 0, 0, 0, 0, 0, 0, 0, 0, 0, 1, 0, 0, 0, 1, 0, 0, 0, 0, 0, 0, 0, 0],\n",
    "    [0, 0, 0, 0, 0, 0, 0, 0, 0, 0, 1, 0, 0, 0, 1, 0, 0, 0, 1, 0, 0, 0, 1, 0, 0, 0, 0, 0, 0, 0],\n",
    "    [0, 0, 0, 0, 0, 0, 0, 0, 0, 0, 0, 0, 0, 0, 0, 0, 0, 0, 0, 1, 0, 0, 0, 1, 0, 0, 0, 0, 0, 0],\n",
    "    [0, 0, 0, 0, 0, 0, 0, 0, 0, 0, 0, 0, 0, 1, 0, 0, 0, 0, 0, 0, 1, 0, 0, 0, 1, 0, 0, 0, 0, 0],\n",
    "    [0, 0, 0, 0, 0, 0, 0, 0, 0, 0, 0, 0, 0, 0, 0, 0, 0, 0, 0, 0, 0, 1, 0, 0, 0, 1, 0, 0, 0, 0],\n",
    "    [0, 0, 0, 0, 0, 0, 0, 0, 0, 0, 0, 0, 0, 0, 0, 0, 0, 0, 0, 0, 0, 0, 1, 0, 0, 0, 1, 0, 0, 0],\n",
    "    [0, 0, 0, 0, 1, 0, 0, 0, 0, 0, 0, 0, 1, 0, 0, 0, 0, 0, 0, 0, 0, 0, 0, 1, 0, 0, 0, 1, 0, 0],\n",
    "    [0, 0, 0, 0, 0, 0, 0, 0, 1, 0, 0, 0, 0, 0, 0, 0, 0, 0, 0, 0, 0, 0, 0, 0, 1, 0, 0, 0, 1, 0],\n",
    "    [0, 0, 0, 1, 0, 0, 0, 1, 0, 0, 0, 0, 0, 0, 1, 0, 0, 0, 0, 0, 0, 0, 0, 0, 0, 1, 0, 0, 0, 1],\n",
    "    [0, 0, 0, 0, 0, 0, 0, 0, 0, 0, 0, 0, 0, 0, 0, 0, 0, 0, 0, 0, 0, 0, 0, 0, 0, 0, 1, 0, 0, 0],\n",
    "    [0, 0, 0, 0, 0, 0, 1, 0, 0, 0, 0, 0, 0, 0, 1, 0, 0, 0, 0, 0, 0, 0, 0, 0, 0, 0, 0, 1, 0, 0],\n",
    "]\n",
    ")"
   ]
  },
  {
   "cell_type": "code",
   "execution_count": 37,
   "id": "52d6d123",
   "metadata": {},
   "outputs": [
    {
     "name": "stdout",
     "output_type": "stream",
     "text": [
      "med_brute_force: Too complex!\n",
      "med_greedy: 37\n",
      "vns1: 32.0\n",
      "vns2: 34.0\n",
      "vns3: 31.0\n"
     ]
    }
   ],
   "source": [
    "test_all_algorithms(graph4, 5)"
   ]
  },
  {
   "cell_type": "code",
   "execution_count": null,
   "id": "6fdf7363",
   "metadata": {},
   "outputs": [],
   "source": []
  },
  {
   "cell_type": "code",
   "execution_count": null,
   "id": "d00088bb",
   "metadata": {},
   "outputs": [],
   "source": []
  },
  {
   "cell_type": "code",
   "execution_count": 16,
   "id": "07a5cb0b",
   "metadata": {},
   "outputs": [],
   "source": [
    "graph6 = read_graph_from_edges('bn-mouse_visual-cortex_1.edges')"
   ]
  },
  {
   "cell_type": "code",
   "execution_count": 17,
   "id": "a118bdbf",
   "metadata": {},
   "outputs": [
    {
     "name": "stdout",
     "output_type": "stream",
     "text": [
      "med_brute_force: Too complex!\n",
      "med_greedy: 43\n",
      "vns1: 43.0\n",
      "vns2: 43.0\n",
      "vns3: 43.0\n"
     ]
    }
   ],
   "source": [
    "test_all_algorithms(graph6, 1)"
   ]
  },
  {
   "cell_type": "code",
   "execution_count": null,
   "id": "7acfd0b8",
   "metadata": {},
   "outputs": [],
   "source": []
  },
  {
   "cell_type": "code",
   "execution_count": null,
   "id": "1c15d8fa",
   "metadata": {},
   "outputs": [],
   "source": []
  },
  {
   "cell_type": "code",
   "execution_count": 18,
   "id": "918afabe",
   "metadata": {},
   "outputs": [],
   "source": [
    "graph7 = read_graph_from_mtx('MANN-a9.mtx')"
   ]
  },
  {
   "cell_type": "code",
   "execution_count": 19,
   "id": "a0766c03",
   "metadata": {},
   "outputs": [
    {
     "name": "stdout",
     "output_type": "stream",
     "text": [
      "med_brute_force: Too complex!\n",
      "med_greedy: 110\n",
      "vns1: 119.0\n",
      "vns2: -1\n",
      "vns3: -1\n"
     ]
    }
   ],
   "source": [
    "test_all_algorithms(graph7, 5)    "
   ]
  },
  {
   "cell_type": "code",
   "execution_count": null,
   "id": "7276ab1d",
   "metadata": {},
   "outputs": [],
   "source": []
  },
  {
   "cell_type": "code",
   "execution_count": null,
   "id": "8be336fd",
   "metadata": {},
   "outputs": [],
   "source": []
  },
  {
   "cell_type": "code",
   "execution_count": 21,
   "id": "9af7d80a",
   "metadata": {},
   "outputs": [],
   "source": [
    "graph8 = read_graph_from_mtx('hamming6-4.mtx')"
   ]
  },
  {
   "cell_type": "code",
   "execution_count": 22,
   "id": "fef57a2e",
   "metadata": {},
   "outputs": [
    {
     "name": "stdout",
     "output_type": "stream",
     "text": [
      "med_brute_force: Too complex!\n",
      "med_greedy: 200\n",
      "vns1: 206.0\n",
      "vns2: -1\n",
      "vns3: -1\n"
     ]
    }
   ],
   "source": [
    "test_all_algorithms(graph8, 10)"
   ]
  },
  {
   "cell_type": "code",
   "execution_count": null,
   "id": "fbcb4cef",
   "metadata": {},
   "outputs": [],
   "source": []
  },
  {
   "cell_type": "code",
   "execution_count": null,
   "id": "c3d2a4c3",
   "metadata": {},
   "outputs": [],
   "source": []
  },
  {
   "cell_type": "code",
   "execution_count": 61,
   "id": "1d46e266",
   "metadata": {},
   "outputs": [],
   "source": [
    "graph9 = read_graph_from_edges('eco-stmarks.edges')"
   ]
  },
  {
   "cell_type": "code",
   "execution_count": 62,
   "id": "9988a3ec",
   "metadata": {},
   "outputs": [
    {
     "name": "stdout",
     "output_type": "stream",
     "text": [
      "med_brute_force: Too complex!\n",
      "med_greedy: 89\n",
      "vns1: 88.0\n",
      "vns2: -1\n",
      "vns3: 90.0\n"
     ]
    }
   ],
   "source": [
    "test_all_algorithms(graph9, 15)"
   ]
  },
  {
   "cell_type": "code",
   "execution_count": null,
   "id": "666b993a",
   "metadata": {},
   "outputs": [],
   "source": []
  },
  {
   "cell_type": "code",
   "execution_count": 41,
   "id": "00d18d2d",
   "metadata": {},
   "outputs": [],
   "source": [
    "graph10 = read_graph_from_mtx('CAG_mat72.mtx')"
   ]
  },
  {
   "cell_type": "code",
   "execution_count": 48,
   "id": "78736ca5",
   "metadata": {},
   "outputs": [
    {
     "name": "stdout",
     "output_type": "stream",
     "text": [
      "med_brute_force: Too complex!\n",
      "med_greedy: 102\n",
      "vns1: 121.0\n",
      "vns2: -1\n",
      "vns3: 97.0\n"
     ]
    }
   ],
   "source": [
    "test_all_algorithms(graph10, 15)"
   ]
  },
  {
   "cell_type": "code",
   "execution_count": null,
   "id": "bc98a721",
   "metadata": {},
   "outputs": [],
   "source": []
  },
  {
   "cell_type": "code",
   "execution_count": null,
   "id": "d42caf40",
   "metadata": {},
   "outputs": [],
   "source": []
  },
  {
   "cell_type": "code",
   "execution_count": null,
   "id": "63cf1c6b",
   "metadata": {},
   "outputs": [],
   "source": []
  },
  {
   "cell_type": "code",
   "execution_count": null,
   "id": "f9970a3d",
   "metadata": {},
   "outputs": [],
   "source": []
  },
  {
   "cell_type": "code",
   "execution_count": null,
   "id": "22a8c834",
   "metadata": {},
   "outputs": [],
   "source": []
  },
  {
   "cell_type": "code",
   "execution_count": null,
   "id": "378d45a5",
   "metadata": {},
   "outputs": [],
   "source": []
  }
 ],
 "metadata": {
  "kernelspec": {
   "display_name": "Python 3 (ipykernel)",
   "language": "python",
   "name": "python3"
  },
  "language_info": {
   "codemirror_mode": {
    "name": "ipython",
    "version": 3
   },
   "file_extension": ".py",
   "mimetype": "text/x-python",
   "name": "python",
   "nbconvert_exporter": "python",
   "pygments_lexer": "ipython3",
   "version": "3.11.0"
  }
 },
 "nbformat": 4,
 "nbformat_minor": 5
}

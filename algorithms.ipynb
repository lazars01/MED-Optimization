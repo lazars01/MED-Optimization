{
 "cells": [
  {
   "cell_type": "code",
   "execution_count": 1,
   "id": "be00553d",
   "metadata": {},
   "outputs": [],
   "source": [
    "import itertools\n",
    "import numpy as np\n",
    "import random\n",
    "from copy import deepcopy\n",
    "\n",
    "import time"
   ]
  },
  {
   "cell_type": "code",
   "execution_count": 2,
   "id": "8290a753",
   "metadata": {},
   "outputs": [],
   "source": [
    "def generate_subsets(edges):\n",
    "    for r in range(len(edges)+1):\n",
    "        for subset in itertools.combinations(edges, r):\n",
    "            yield subset"
   ]
  },
  {
   "cell_type": "code",
   "execution_count": 3,
   "id": "fb8c19a9",
   "metadata": {},
   "outputs": [],
   "source": [
    "def get_reach_matrix(graph, n):\n",
    "    reach = np.zeros((n, n))\n",
    "    np.copyto(reach, graph)\n",
    "    for k in range(n):\n",
    "        for i in range(n):\n",
    "            for j in range(n):\n",
    "                reach[i][j] = reach[i][j] or (reach[i][k] and reach[k][j])\n",
    "    return reach"
   ]
  },
  {
   "cell_type": "code",
   "execution_count": 4,
   "id": "4f265a01",
   "metadata": {},
   "outputs": [],
   "source": [
    "def is_equivalent(graph1, graph2):\n",
    "    reach1 = get_reach_matrix(graph1, graph1.shape[0])\n",
    "    reach2 = get_reach_matrix(graph2, graph2.shape[0])\n",
    "    return np.array_equal(reach1, reach2)"
   ]
  },
  {
   "cell_type": "code",
   "execution_count": 5,
   "id": "fbc67938",
   "metadata": {},
   "outputs": [],
   "source": [
    "def med_brute_force(graph):\n",
    "    n = graph.shape[0]\n",
    "    edges = set(zip(*np.where(graph)))\n",
    "    subsets = generate_subsets(edges)\n",
    "    min_subset_size = np.inf\n",
    "    min_graph = graph\n",
    "    for subset in subsets:\n",
    "        new_edges = edges - set(subset)\n",
    "        new_graph = np.zeros((n,n))\n",
    "        for (i,j) in new_edges:\n",
    "            new_graph[i][j] = 1\n",
    "        if is_equivalent(graph, new_graph):\n",
    "            if len(new_edges) < min_subset_size:\n",
    "                min_subset_size = len(new_edges)\n",
    "                min_graph = new_graph\n",
    "    return min_subset_size, min_graph"
   ]
  },
  {
   "cell_type": "code",
   "execution_count": 6,
   "id": "0be4d304",
   "metadata": {},
   "outputs": [],
   "source": [
    "def med_greedy(graph):\n",
    "    current_graph = deepcopy(graph)\n",
    "    n = graph.shape[0]\n",
    "    edges = set(zip(*np.where(graph)))\n",
    "    for (i, j) in edges:\n",
    "        modified_graph = deepcopy(current_graph)\n",
    "        modified_graph[i][j] = 1 - modified_graph[i][j]\n",
    "        if is_equivalent(current_graph, modified_graph):\n",
    "            current_graph = modified_graph\n",
    "    edges = set(zip(*np.where(current_graph)))\n",
    "    return len(edges), current_graph\n"
   ]
  },
  {
   "cell_type": "code",
   "execution_count": 7,
   "id": "59a8ad8d",
   "metadata": {},
   "outputs": [],
   "source": [
    "def initialize(graph):\n",
    "    solution = deepcopy(graph)\n",
    "    n = graph.shape[0]\n",
    "    for i in range(n):\n",
    "        for j in range(n):\n",
    "            if solution[i][j] == 1:\n",
    "                if random.random() < 0.2:\n",
    "                    solution[i][j] = 0\n",
    "    return np.array(solution)"
   ]
  },
  {
   "cell_type": "code",
   "execution_count": 8,
   "id": "8501fdab",
   "metadata": {},
   "outputs": [],
   "source": [
    "def calc_solution_value(solution, graph, graph_reach, alpha):\n",
    "    n = graph.shape[0]\n",
    "    solution_reach = get_reach_matrix(solution, n)\n",
    "    \n",
    "    needed_reachs = 0\n",
    "    \n",
    "    for i in range(n):\n",
    "        for j in range(n):\n",
    "            if graph_reach[i][j] == 1 and solution_reach[i][j] == 0:\n",
    "                needed_reachs += 1\n",
    "            \n",
    "                \n",
    "    edges = set(zip(*np.where(solution)))\n",
    "  \n",
    "    return len(edges) / n**2 + alpha * needed_reachs     "
   ]
  },
  {
   "cell_type": "code",
   "execution_count": 9,
   "id": "0209ce1b",
   "metadata": {},
   "outputs": [],
   "source": [
    "def shaking(solution, k, edges):\n",
    "    n = len(edges)\n",
    "    new_solution = deepcopy(solution)\n",
    "    \n",
    "    ns_edges = set(zip(*np.where(new_solution)))\n",
    "    to_pick = edges - ns_edges\n",
    "    \n",
    "    for _ in range(k):\n",
    "        if len(to_pick) == 0:\n",
    "            break\n",
    "        (i, j) = random.choice(tuple(to_pick))\n",
    "        new_solution[i][j] = 1\n",
    "    \n",
    "    return new_solution"
   ]
  },
  {
   "cell_type": "code",
   "execution_count": 10,
   "id": "1dd29094",
   "metadata": {},
   "outputs": [],
   "source": [
    "def make_small_change(graph, edges):\n",
    "    new_graph = deepcopy(graph)\n",
    "    (i, j) = random.choice(tuple(edges))\n",
    "    new_graph[i][j] = 1 - new_graph[i][j]\n",
    "    \n",
    "    return new_graph"
   ]
  },
  {
   "cell_type": "code",
   "execution_count": 11,
   "id": "f74b37c8",
   "metadata": {},
   "outputs": [],
   "source": [
    "def local_search1(solution, graph, n, max_iters, graph_reach, edges, alpha):\n",
    "    best_solution = deepcopy(solution)\n",
    "    best_value = calc_solution_value(solution, graph, graph_reach, alpha)\n",
    "    \n",
    "    for i in range(max_iters):\n",
    "        new_solution = make_small_change(best_solution, edges)\n",
    "        new_value = calc_solution_value(new_solution, graph, graph_reach, alpha)\n",
    "        \n",
    "        if new_value < best_value:\n",
    "            best_value = new_value\n",
    "            best_solution = deepcopy(new_solution) \n",
    "            \n",
    "    return best_solution, best_value   "
   ]
  },
  {
   "cell_type": "code",
   "execution_count": 12,
   "id": "8eb5d95c",
   "metadata": {},
   "outputs": [],
   "source": [
    "def local_search2(solution, graph, n, graph_reach, edges, alpha):\n",
    "    best_solution = deepcopy(solution)\n",
    "    best_value = calc_solution_value(solution, graph, graph_reach, alpha)\n",
    "    \n",
    "    while True:\n",
    "        solution_edges = set(zip(*np.where(best_solution)))\n",
    "\n",
    "        improved = False\n",
    "        for (i, j) in solution_edges:\n",
    "            new_solution = deepcopy(best_solution)\n",
    "            new_solution[i][j] = 0\n",
    "            new_value = calc_solution_value(new_solution, graph, graph_reach, alpha)\n",
    "            \n",
    "            if new_value < best_value:\n",
    "                best_value = new_value\n",
    "                best_solution = deepcopy(new_solution)\n",
    "                improved = True\n",
    "        \n",
    "        if not improved:\n",
    "            break\n",
    "            \n",
    "    return best_solution, best_value"
   ]
  },
  {
   "cell_type": "code",
   "execution_count": 13,
   "id": "26c73cf4",
   "metadata": {},
   "outputs": [],
   "source": [
    "def local_search3(solution, graph, n, graph_reach, edges, alpha):\n",
    "    best_solution = deepcopy(solution)\n",
    "    best_value = calc_solution_value(solution, graph, graph_reach, alpha)\n",
    "    \n",
    "    while True:\n",
    "        solution_edges = set(zip(*np.where(best_solution)))\n",
    "\n",
    "        improved = False\n",
    "        for (i, j) in solution_edges:\n",
    "            new_solution = deepcopy(best_solution)\n",
    "            new_solution[i][j] = 0\n",
    "            \n",
    "            missing_edges = edges - solution_edges\n",
    "            me_size = len(missing_edges)\n",
    "            \n",
    "            if me_size > 0:\n",
    "                pos = random.randint(0, me_size-1)\n",
    "                (row, clm) = list(missing_edges)[pos]\n",
    "\n",
    "                if random.random() > 0.5:\n",
    "                    new_solution[row][clm] = 1\n",
    "            \n",
    "            new_value = calc_solution_value(new_solution, graph, graph_reach, alpha)\n",
    "            \n",
    "            if new_value < best_value:\n",
    "                best_value = new_value\n",
    "                best_solution = deepcopy(new_solution)\n",
    "                improved = True\n",
    "        \n",
    "        if not improved:\n",
    "            break\n",
    "            \n",
    "    return best_solution, best_value"
   ]
  },
  {
   "cell_type": "code",
   "execution_count": 14,
   "id": "b1a7fab7",
   "metadata": {},
   "outputs": [],
   "source": [
    "def vns(graph, minutes, k_max, move_prob, ls_max_iters, alpha, ls_type):\n",
    "    solution = initialize(graph)\n",
    "    n = solution.shape[0]\n",
    "    graph_reach = get_reach_matrix(graph, n)\n",
    "    value = calc_solution_value(solution, graph, graph_reach, alpha)\n",
    "    \n",
    "    start_time = time.time()\n",
    "    elapsed_time = 0\n",
    "    duration_limit = minutes * 60\n",
    "    \n",
    "    edges = set(zip(*np.where(graph)))\n",
    "    \n",
    "    while elapsed_time < duration_limit:\n",
    "        for k in range(1, k_max):\n",
    "            new_solution = shaking(solution, k, edges)\n",
    "            if ls_type == 1:\n",
    "                new_solution, new_value = local_search1(new_solution, graph, n, ls_max_iters, graph_reach, edges, alpha)\n",
    "            elif ls_type == 2:\n",
    "                new_solution, new_value = local_search2(new_solution, graph, n, graph_reach, edges, alpha)\n",
    "            elif ls_type == 3:\n",
    "                new_solution, new_value = local_search3(new_solution, graph, n, graph_reach, edges, alpha)\n",
    "            \n",
    "            if new_value < value or (new_value == value and random.random() < move_prob):\n",
    "                value = new_value\n",
    "                solution = deepcopy(new_solution)\n",
    "                break\n",
    "            elapsed_time = time.time() - start_time\n",
    "    if value < 1.0:\n",
    "        value = value * n**2\n",
    "    else:\n",
    "        value = -1\n",
    "    \n",
    "    return solution, value"
   ]
  },
  {
   "cell_type": "code",
   "execution_count": null,
   "id": "5072b0bf",
   "metadata": {},
   "outputs": [],
   "source": []
  },
  {
   "cell_type": "code",
   "execution_count": null,
   "id": "65a264c0",
   "metadata": {},
   "outputs": [],
   "source": []
  }
 ],
 "metadata": {
  "kernelspec": {
   "display_name": "Python 3 (ipykernel)",
   "language": "python",
   "name": "python3"
  },
  "language_info": {
   "codemirror_mode": {
    "name": "ipython",
    "version": 3
   },
   "file_extension": ".py",
   "mimetype": "text/x-python",
   "name": "python",
   "nbconvert_exporter": "python",
   "pygments_lexer": "ipython3",
   "version": "3.11.0"
  }
 },
 "nbformat": 4,
 "nbformat_minor": 5
}
